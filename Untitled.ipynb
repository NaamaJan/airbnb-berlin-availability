{
 "cells": [
  {
   "cell_type": "code",
   "execution_count": 1,
   "metadata": {},
   "outputs": [],
   "source": [
    "# Import libraries:\n",
    "import pyodbc\n",
    "from sqlalchemy import create_engine\n",
    "import pandas as pd\n",
    "import numpy as np\n",
    "import matplotlib.pyplot as plt\n",
    "%matplotlib inline\n",
    "import seaborn as sns\n",
    "from scipy.stats import iqr\n",
    "from scipy import stats\n",
    "from scipy.stats import ks_2samp\n",
    "from itertools import combinations\n",
    "import missingno as msno\n",
    "import warnings\n",
    "warnings.filterwarnings('ignore')"
   ]
  },
  {
   "cell_type": "code",
   "execution_count": 2,
   "metadata": {},
   "outputs": [],
   "source": [
    "df_flat_kaggle = pd.read_csv(\"flat_file.csv\")"
   ]
  },
  {
   "cell_type": "code",
   "execution_count": 3,
   "metadata": {},
   "outputs": [
    {
     "name": "stdout",
     "output_type": "stream",
     "text": [
      "<class 'pandas.core.frame.DataFrame'>\n",
      "RangeIndex: 157864 entries, 0 to 157863\n",
      "Data columns (total 110 columns):\n",
      " #    Column                                 Non-Null Count   Dtype  \n",
      "---   ------                                 --------------   -----  \n",
      " 0    Unnamed: 0                             157864 non-null  int64  \n",
      " 1    listing_id                             157864 non-null  int64  \n",
      " 2    name                                   157451 non-null  object \n",
      " 3    target_start_date_period               157864 non-null  object \n",
      " 4    target_end_date_period                 157864 non-null  object \n",
      " 5    target_num_of_day_in_period            157864 non-null  int64  \n",
      " 6    target_num_of_booked_days              157864 non-null  int64  \n",
      " 7    booked_up_target                       157864 non-null  int64  \n",
      " 8    target_avg_dollar_price_in_period      43919 non-null   float64\n",
      " 9    start_date_previous_period             157864 non-null  object \n",
      " 10   end_date_previous_period               157864 non-null  object \n",
      " 11   num_of_day_in_previous_period          157864 non-null  int64  \n",
      " 12   num_of_booked_days_in_previous_period  157864 non-null  int64  \n",
      " 13   occupancy_last_period                  157864 non-null  float64\n",
      " 14   avg_dollar_price_in_previous_period    78311 non-null   float64\n",
      " 15   host_id                                157864 non-null  int64  \n",
      " 16   host_name                              157682 non-null  object \n",
      " 17   neighbourhood_group                    157864 non-null  object \n",
      " 18   neighbourhood                          157864 non-null  object \n",
      " 19   latitude                               157864 non-null  float64\n",
      " 20   longitude                              157864 non-null  float64\n",
      " 21   room_type                              157864 non-null  object \n",
      " 22   price                                  157864 non-null  float64\n",
      " 23   minimum_nights                         157864 non-null  float64\n",
      " 24   number_of_reviews                      157864 non-null  float64\n",
      " 25   last_review                            130508 non-null  object \n",
      " 26   DaysPassed_last_review                 130508 non-null  float64\n",
      " 27   reviews_per_month                      130466 non-null  float64\n",
      " 28   calculated_host_listings_count         157864 non-null  float64\n",
      " 29   availability_365                       157864 non-null  float64\n",
      " 30   listing_url                            157864 non-null  object \n",
      " 31   scrape_id                              157864 non-null  float64\n",
      " 32   last_scraped                           157864 non-null  object \n",
      " 33   summary                                151074 non-null  object \n",
      " 34   space                                  97916 non-null   object \n",
      " 35   description                            156429 non-null  object \n",
      " 36   experiences_offered                    157864 non-null  object \n",
      " 37   notes                                  50295 non-null   object \n",
      " 38   transit                                91168 non-null   object \n",
      " 39   access                                 75089 non-null   object \n",
      " 40   interaction                            72688 non-null   object \n",
      " 41   house_rules                            69923 non-null   object \n",
      " 42   neighborhood_overview                  80668 non-null   object \n",
      " 43   host_about                             78316 non-null   object \n",
      " 44   host_since                             157682 non-null  object \n",
      " 45   DaysPassed_host_since                  157682 non-null  float64\n",
      " 46   picture_url                            157864 non-null  object \n",
      " 47   host_url                               157864 non-null  object \n",
      " 48   host_location                          157052 non-null  object \n",
      " 49   host_response_time                     67606 non-null   object \n",
      " 50   host_response_rate                     67599 non-null   float64\n",
      " 51   host_is_superhost                      157682 non-null  object \n",
      " 52   host_thumbnail_url                     157682 non-null  object \n",
      " 53   host_picture_url                       157682 non-null  object \n",
      " 54   host_neighbourhood                     122206 non-null  object \n",
      " 55   host_total_listings_count              157682 non-null  float64\n",
      " 56   host_verifications                     157864 non-null  object \n",
      " 57   host_has_profile_pic                   157682 non-null  object \n",
      " 58   host_identity_verified                 157682 non-null  object \n",
      " 59   street                                 157864 non-null  object \n",
      " 60   neighbourhood_cleansed                 157864 non-null  object \n",
      " 61   neighbourhood_group_cleansed           157864 non-null  object \n",
      " 62   city                                   157829 non-null  object \n",
      " 63   state                                  157276 non-null  object \n",
      " 64   zipcode                                153209 non-null  float64\n",
      " 65   smart_location                         157864 non-null  object \n",
      " 66   market                                 157423 non-null  object \n",
      " 67   country_code                           157864 non-null  object \n",
      " 68   country                                157864 non-null  object \n",
      " 69   is_location_exact                      157864 non-null  object \n",
      " 70   property_type                          157864 non-null  object \n",
      " 71   accommodates                           157864 non-null  float64\n",
      " 72   bathrooms                              157640 non-null  float64\n",
      " 73   bedrooms                               157738 non-null  float64\n",
      " 74   beds                                   157584 non-null  float64\n",
      " 75   bed_type                               157864 non-null  object \n",
      " 76   amenities                              157864 non-null  object \n",
      " 77   square_feet                            3122 non-null    float64\n",
      " 78   weekly_price                           25767 non-null   object \n",
      " 79   monthly_price                          18613 non-null   object \n",
      " 80   security_deposit                       92337 non-null   object \n",
      " 81   cleaning_fee                           107842 non-null  object \n",
      " 82   guests_included                        157864 non-null  float64\n",
      " 83   extra_people                           157864 non-null  object \n",
      " 84   maximum_nights                         157864 non-null  float64\n",
      " 85   calendar_updated                       157864 non-null  object \n",
      " 86   availability_30                        157864 non-null  float64\n",
      " 87   availability_60                        157864 non-null  float64\n",
      " 88   availability_90                        157864 non-null  float64\n",
      " 89   first_review                           130466 non-null  object \n",
      " 90   DaysPassed_first_review                130466 non-null  float64\n",
      " 91   calendar_last_scraped                  157864 non-null  object \n",
      " 92   review_scores_rating                   127141 non-null  float64\n",
      " 93   review_scores_accuracy                 126966 non-null  float64\n",
      " 94   review_scores_cleanliness              126987 non-null  float64\n",
      " 95   review_scores_checkin                  126840 non-null  float64\n",
      " 96   review_scores_communication            126938 non-null  float64\n",
      " 97   review_scores_location                 126847 non-null  float64\n",
      " 98   review_scores_value                    126819 non-null  float64\n",
      " 99   license                                11466 non-null   object \n",
      " 100  instant_bookable                       157864 non-null  object \n",
      " 101  is_business_travel_ready               157864 non-null  object \n",
      " 102  require_guest_profile_picture          157864 non-null  object \n",
      " 103  require_guest_phone_verification       157864 non-null  object \n",
      " 104  cancellation_policy                    157864 non-null  object \n",
      " 105  concat_comments                        85155 non-null   object \n",
      " 106  size                                   75285 non-null   float64\n",
      " 107  concat_comments_polarity               85155 non-null   float64\n",
      " 108  concat_comments_subjectivity           85155 non-null   float64\n",
      " 109  concat_comments_sentiment              85155 non-null   object \n",
      "dtypes: float64(38), int64(8), object(64)\n",
      "memory usage: 132.5+ MB\n"
     ]
    }
   ],
   "source": [
    "df_flat_kaggle.info(verbose=True, show_counts=True)"
   ]
  },
  {
   "cell_type": "code",
   "execution_count": 5,
   "metadata": {},
   "outputs": [
    {
     "data": {
      "text/plain": [
       "0         92\n",
       "1         92\n",
       "2         98\n",
       "3         89\n",
       "4         92\n",
       "          ..\n",
       "157859    91\n",
       "157860    92\n",
       "157861    92\n",
       "157862    92\n",
       "157863    98\n",
       "Name: target_num_of_day_in_period, Length: 157864, dtype: int64"
      ]
     },
     "execution_count": 5,
     "metadata": {},
     "output_type": "execute_result"
    }
   ],
   "source": [
    "df_flat_kaggle['target_num_of_day_in_period']"
   ]
  },
  {
   "cell_type": "code",
   "execution_count": null,
   "metadata": {},
   "outputs": [],
   "source": []
  }
 ],
 "metadata": {
  "kernelspec": {
   "display_name": "Python 3",
   "language": "python",
   "name": "python3"
  },
  "language_info": {
   "codemirror_mode": {
    "name": "ipython",
    "version": 3
   },
   "file_extension": ".py",
   "mimetype": "text/x-python",
   "name": "python",
   "nbconvert_exporter": "python",
   "pygments_lexer": "ipython3",
   "version": "3.7.4"
  }
 },
 "nbformat": 4,
 "nbformat_minor": 2
}
